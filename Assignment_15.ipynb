{
 "cells": [
  {
   "cell_type": "code",
   "execution_count": null,
   "id": "51296c74",
   "metadata": {},
   "outputs": [],
   "source": [
    "Q1. What is a database? Differentiate between SQL and NoSQL databases."
   ]
  },
  {
   "cell_type": "code",
   "execution_count": null,
   "id": "e3b21fef",
   "metadata": {},
   "outputs": [],
   "source": [
    "A database is a collection of structured data that is organized in a way that enables efficient storage, retrieval, and manipulation of information. Databases are commonly used in software applications, websites, and other information systems to store and manage large amounts of data.\n",
    "SQL (Structured Query Language) and NoSQL (Not Only SQL) are two different types of databases that have different architectures, data models, and query languages.\n",
    "SQL databases are relational databases that store data in tables with rows and columns. They use a standardized query language, SQL, to manipulate and retrieve data. SQL databases are ideal for structured data with well-defined relationships between different data points. Some examples of SQL databases include MySQL, PostgreSQL, and Oracle.\n",
    "NoSQL databases, on the other hand, are non-relational databases that store data in a more flexible way. They can handle unstructured, semi-structured, and structured data, and they do not require a fixed schema or data model. NoSQL databases use different data models, such as key-value, document, graph, or column-family. Examples of NoSQL databases include MongoDB, Cassandra, and Neo4j.\n",
    "The choice between SQL and NoSQL databases depends on the specific needs of the application or system. SQL databases are good for handling structured data that follows a specific schema, while NoSQL databases are more flexible and scalable for handling unstructured or semi-structured data. NoSQL databases are often preferred for web-scale applications and big data projects, while SQL databases are commonly used in traditional enterprise applications."
   ]
  },
  {
   "cell_type": "code",
   "execution_count": null,
   "id": "0cccce55",
   "metadata": {},
   "outputs": [],
   "source": [
    "Q2. What is DDL? Explain why CREATE, DROP, ALTER, and TRUNCATE are used with an example."
   ]
  },
  {
   "cell_type": "code",
   "execution_count": null,
   "id": "ea43e79d",
   "metadata": {},
   "outputs": [],
   "source": [
    "DDL stands for Data Definition Language, which is a set of SQL commands that are used to define and manage the structure of database objects such as tables, indexes, views, and constraints. DDL statements are used to create, modify, and delete database objects, as well as to grant or revoke permissions on those objects.\n",
    "Here are some examples of DDL statements and their uses:\n",
    "CREATE: The CREATE statement is used to create new database objects, such as tables, views, indexes, and stored procedures. For example, the following SQL statement creates a new table called \"users\" with three columns: \"id\", \"name\", and \"email\":"
   ]
  },
  {
   "cell_type": "code",
   "execution_count": 1,
   "id": "ebcb39f8",
   "metadata": {},
   "outputs": [
    {
     "ename": "SyntaxError",
     "evalue": "invalid syntax (189027383.py, line 1)",
     "output_type": "error",
     "traceback": [
      "\u001b[0;36m  Cell \u001b[0;32mIn[1], line 1\u001b[0;36m\u001b[0m\n\u001b[0;31m    CREATE TABLE users (\u001b[0m\n\u001b[0m           ^\u001b[0m\n\u001b[0;31mSyntaxError\u001b[0m\u001b[0;31m:\u001b[0m invalid syntax\n"
     ]
    }
   ],
   "source": [
    "CREATE TABLE users (\n",
    "  id INT PRIMARY KEY,\n",
    "  name VARCHAR(50),\n",
    "  email VARCHAR(100)\n",
    ");"
   ]
  },
  {
   "cell_type": "code",
   "execution_count": null,
   "id": "d5390042",
   "metadata": {},
   "outputs": [],
   "source": [
    "DROP: The DROP statement is used to remove an existing database object. For example, the following SQL statement drops the \"users\" table that was created in the previous example:"
   ]
  },
  {
   "cell_type": "code",
   "execution_count": null,
   "id": "163f0a08",
   "metadata": {},
   "outputs": [],
   "source": [
    "DROP TABLE users;"
   ]
  },
  {
   "cell_type": "code",
   "execution_count": null,
   "id": "a56f9b77",
   "metadata": {},
   "outputs": [],
   "source": [
    "ALTER: The ALTER statement is used to modify an existing database object, such as a table or a view. For example, the following SQL statement adds a new column called \"age\" to the \"users\" table:\n",
    "ALTER TABLE users ADD COLUMN age INT;\n",
    "TRUNCATE: The TRUNCATE statement is used to delete all rows from a table, but the table structure remains intact. For example, the following SQL statement deletes all rows from the \"users\" table:"
   ]
  },
  {
   "cell_type": "code",
   "execution_count": null,
   "id": "f1ca4f57",
   "metadata": {},
   "outputs": [],
   "source": [
    "TRUNCATE TABLE users;"
   ]
  },
  {
   "cell_type": "code",
   "execution_count": null,
   "id": "3706cbb7",
   "metadata": {},
   "outputs": [],
   "source": [
    "Q3. What is DML? Explain INSERT, UPDATE, and DELETE with an example."
   ]
  },
  {
   "cell_type": "code",
   "execution_count": null,
   "id": "1b40281d",
   "metadata": {},
   "outputs": [],
   "source": [
    "DML stands for Data Manipulation Language, which is a set of SQL commands used to manipulate and modify the data stored in a database. DML statements are used to insert, update, delete, and retrieve data from a database. Here are some examples of DML statements and their uses:\n",
    "INSERT: The INSERT statement is used to add new rows to a table. For example, the following SQL statement inserts a new record into a table named \"users\" with the values \"John Doe\" for the name column, \"johndoe@example.com\" for the email column, and 25 for the age column:"
   ]
  },
  {
   "cell_type": "code",
   "execution_count": null,
   "id": "005a0e96",
   "metadata": {},
   "outputs": [],
   "source": [
    "INSERT INTO users (name, email, age) "
   ]
  },
  {
   "cell_type": "code",
   "execution_count": null,
   "id": "8b8dc13d",
   "metadata": {},
   "outputs": [],
   "source": [
    "UPDATE: The UPDATE statement is used to modify existing data in a table. For example, the following SQL statement updates the email of the user with the name \"John Doe\" to \"john.doe@example.com\":"
   ]
  },
  {
   "cell_type": "code",
   "execution_count": null,
   "id": "5ae14bc8",
   "metadata": {},
   "outputs": [],
   "source": [
    "UPDATE users SET email = 'john.doe@example.com' WHERE name = 'John Doe';"
   ]
  },
  {
   "cell_type": "code",
   "execution_count": null,
   "id": "9a7fa506",
   "metadata": {},
   "outputs": [],
   "source": [
    "DML stands for Data Manipulation Language, which is a set of SQL commands used to manipulate and modify the data stored in a database. DML statements are used to insert, update, delete, and retrieve data from a database. Here are some examples of DML statements and their uses:\n",
    "INSERT: The INSERT statement is used to add new rows to a table. For example, the following SQL statement inserts a new record into a table named \"users\" with the values \"John Doe\" for the name column, \"johndoe@example.com\" for the email column, and 25 for the age column: sql Copy code INSERT INTO users (name, email, age) VALUES ('John Doe', 'johndoe@example.com', 25); UPDATE: The UPDATE statement is used to modify existing data in a table. For example, the following SQL statement updates the email of the user with the name \"John Doe\" to \"john.doe@example.com\": sql Copy code UPDATE users SET email = 'john.doe@example.com' WHERE name = 'John Doe'; DELETE: The DELETE statement is used to remove existing data from a table. For example, the following SQL statement deletes the user with the name \"John Doe\" from the \"users\" table:"
   ]
  },
  {
   "cell_type": "code",
   "execution_count": null,
   "id": "9f2d6af4",
   "metadata": {},
   "outputs": [],
   "source": [
    "FROM users WHERE name = 'John Doe';"
   ]
  },
  {
   "cell_type": "code",
   "execution_count": null,
   "id": "50ef1b93",
   "metadata": {},
   "outputs": [],
   "source": [
    "Q4. What is DQL? Explain SELECT with an example."
   ]
  },
  {
   "cell_type": "code",
   "execution_count": null,
   "id": "ac4ae82f",
   "metadata": {},
   "outputs": [],
   "source": [
    "DQL stands for Data Query Language, which is a subset of SQL used to retrieve data from a database. DQL statements are used to query the database and retrieve specific data based on specified criteria. The most commonly used DQL statement is SELECT.\n",
    "SELECT is used to retrieve data from one or more tables in a database. It allows you to specify the columns to retrieve, the table or tables to retrieve them from, and any conditions that the retrieved data must meet. Here's an example of a SELECT statement:"
   ]
  },
  {
   "cell_type": "code",
   "execution_count": null,
   "id": "6cb079a0",
   "metadata": {},
   "outputs": [],
   "source": [
    "SELECT name, email FROM users WHERE age > 25;"
   ]
  },
  {
   "cell_type": "code",
   "execution_count": null,
   "id": "eded07d0",
   "metadata": {},
   "outputs": [],
   "source": [
    "Q5. Explain Primary Key and Foreign Key."
   ]
  },
  {
   "cell_type": "code",
   "execution_count": null,
   "id": "7928b804",
   "metadata": {},
   "outputs": [],
   "source": [
    "A primary key is a column or set of columns in a table that uniquely identifies each row or record in that table. It ensures that each row in the table is uniquely identifiable and is used to enforce data integrity constraints. A primary key column cannot contain null values and must have a unique value for each row.\n",
    "\n",
    "Here's an example of a table with a primary key:\n",
    "\n",
    "sqlCREATE TABLE students (\n",
    "    id INT PRIMARY KEY,\n",
    "    name VARCHAR(50),\n",
    "    email VARCHAR(100),\n",
    "    age INT\n",
    ");"
   ]
  },
  {
   "cell_type": "code",
   "execution_count": null,
   "id": "49f1a084",
   "metadata": {},
   "outputs": [],
   "source": [
    "A foreign key is a column or set of columns in a table that refers to the primary key of another table. It establishes a link between two tables, which allows data to be retrieved from multiple tables using a single query. A foreign key is used to enforce referential integrity constraints, which ensure that the data in the foreign key column matches the data in the primary key column of the other table.\n",
    "Here's an example of a table with a foreign key:"
   ]
  },
  {
   "cell_type": "code",
   "execution_count": null,
   "id": "86735619",
   "metadata": {},
   "outputs": [],
   "source": [
    "CREATE TABLE courses (\n",
    "    id INT PRIMARY KEY,\n",
    "    name VARCHAR(50),\n",
    "    instructor_id INT,\n",
    "    FOREIGN KEY (instructor_id) REFERENCES instructors(id)\n",
    ");"
   ]
  },
  {
   "cell_type": "code",
   "execution_count": null,
   "id": "86c01f5c",
   "metadata": {},
   "outputs": [],
   "source": [
    "Q6. Write a python code to connect MySQL to python. Explain the cursor() and execute() method."
   ]
  },
  {
   "cell_type": "code",
   "execution_count": null,
   "id": "e945b393",
   "metadata": {},
   "outputs": [],
   "source": [
    "To connect MySQL to Python, we need to have the mysql-connector-python library installed. We can install it using pip, like this:"
   ]
  },
  {
   "cell_type": "code",
   "execution_count": 7,
   "id": "58dd9ef3",
   "metadata": {},
   "outputs": [
    {
     "name": "stdout",
     "output_type": "stream",
     "text": [
      "Requirement already satisfied: mysql-connector-python in /data/data/ru.iiec.pydroid3/files/aarch64-linux-android/lib/python3.9/site-packages (8.0.32)\n",
      "Requirement already satisfied: protobuf<=3.20.3,>=3.11.0 in /data/data/ru.iiec.pydroid3/files/aarch64-linux-android/lib/python3.9/site-packages (from mysql-connector-python) (3.20.3)\n",
      "\u001b[33mWARNING: You are using pip version 21.2.4; however, version 23.0.1 is available.\n",
      "You should consider upgrading via the '/data/user/0/ru.iiec.pydroid3/files/aarch64-linux-android/bin/python3.9 -m pip install --upgrade pip' command.\u001b[0m\n",
      "Note: you may need to restart the kernel to use updated packages.\n"
     ]
    }
   ],
   "source": [
    "pip install mysql-connector-python"
   ]
  },
  {
   "cell_type": "code",
   "execution_count": 9,
   "id": "4a7dd123",
   "metadata": {},
   "outputs": [
    {
     "ename": "InterfaceError",
     "evalue": "2003: Can't connect to MySQL server on 'localhost:3306' (111 Connection refused)",
     "output_type": "error",
     "traceback": [
      "\u001b[0;31m---------------------------------------------------------------------------\u001b[0m",
      "\u001b[0;31mConnectionRefusedError\u001b[0m                    Traceback (most recent call last)",
      "File \u001b[0;32m/data/user/0/ru.iiec.pydroid3/files/aarch64-linux-android/lib/python3.9/site-packages/mysql/connector/network.py:600\u001b[0m, in \u001b[0;36mMySQLTCPSocket.open_connection\u001b[0;34m(self)\u001b[0m\n\u001b[1;32m    599\u001b[0m     \u001b[38;5;28mself\u001b[39m\u001b[38;5;241m.\u001b[39msock\u001b[38;5;241m.\u001b[39msettimeout(\u001b[38;5;28mself\u001b[39m\u001b[38;5;241m.\u001b[39m_connection_timeout)\n\u001b[0;32m--> 600\u001b[0m     \u001b[38;5;28;43mself\u001b[39;49m\u001b[38;5;241;43m.\u001b[39;49m\u001b[43msock\u001b[49m\u001b[38;5;241;43m.\u001b[39;49m\u001b[43mconnect\u001b[49m\u001b[43m(\u001b[49m\u001b[43msockaddr\u001b[49m\u001b[43m)\u001b[49m\n\u001b[1;32m    601\u001b[0m \u001b[38;5;28;01mexcept\u001b[39;00m \u001b[38;5;167;01mIOError\u001b[39;00m \u001b[38;5;28;01mas\u001b[39;00m err:\n",
      "\u001b[0;31mConnectionRefusedError\u001b[0m: [Errno 111] Connection refused",
      "\nThe above exception was the direct cause of the following exception:\n",
      "\u001b[0;31mInterfaceError\u001b[0m                            Traceback (most recent call last)",
      "Cell \u001b[0;32mIn[9], line 2\u001b[0m\n\u001b[1;32m      1\u001b[0m \u001b[38;5;28;01mimport\u001b[39;00m \u001b[38;5;21;01mmysql\u001b[39;00m\u001b[38;5;21;01m.\u001b[39;00m\u001b[38;5;21;01mconnector\u001b[39;00m\n\u001b[0;32m----> 2\u001b[0m mydb \u001b[38;5;241m=\u001b[39m \u001b[43mmysql\u001b[49m\u001b[38;5;241;43m.\u001b[39;49m\u001b[43mconnector\u001b[49m\u001b[38;5;241;43m.\u001b[39;49m\u001b[43mconnect\u001b[49m\u001b[43m(\u001b[49m\n\u001b[1;32m      3\u001b[0m \u001b[43m  \u001b[49m\u001b[43mhost\u001b[49m\u001b[38;5;241;43m=\u001b[39;49m\u001b[38;5;124;43m\"\u001b[39;49m\u001b[38;5;124;43mlocalhost\u001b[39;49m\u001b[38;5;124;43m\"\u001b[39;49m\u001b[43m,\u001b[49m\n\u001b[1;32m      4\u001b[0m \u001b[43m  \u001b[49m\u001b[43muser\u001b[49m\u001b[38;5;241;43m=\u001b[39;49m\u001b[38;5;124;43m\"\u001b[39;49m\u001b[38;5;124;43musername\u001b[39;49m\u001b[38;5;124;43m\"\u001b[39;49m\u001b[43m,\u001b[49m\n\u001b[1;32m      5\u001b[0m \u001b[43m  \u001b[49m\u001b[43mpassword\u001b[49m\u001b[38;5;241;43m=\u001b[39;49m\u001b[38;5;124;43m\"\u001b[39;49m\u001b[38;5;124;43mpassword\u001b[39;49m\u001b[38;5;124;43m\"\u001b[39;49m\u001b[43m,\u001b[49m\n\u001b[1;32m      6\u001b[0m \u001b[43m  \u001b[49m\u001b[43mdatabase\u001b[49m\u001b[38;5;241;43m=\u001b[39;49m\u001b[38;5;124;43m\"\u001b[39;49m\u001b[38;5;124;43mdatabase\u001b[39;49m\u001b[38;5;124;43m\"\u001b[39;49m\n\u001b[1;32m      7\u001b[0m \u001b[43m)\u001b[49m\n\u001b[1;32m      8\u001b[0m mycursor \u001b[38;5;241m=\u001b[39m mydb\u001b[38;5;241m.\u001b[39mcursor()\n",
      "File \u001b[0;32m/data/user/0/ru.iiec.pydroid3/files/aarch64-linux-android/lib/python3.9/site-packages/mysql/connector/pooling.py:294\u001b[0m, in \u001b[0;36mconnect\u001b[0;34m(*args, **kwargs)\u001b[0m\n\u001b[1;32m    292\u001b[0m \u001b[38;5;28;01mif\u001b[39;00m CMySQLConnection \u001b[38;5;129;01mand\u001b[39;00m \u001b[38;5;129;01mnot\u001b[39;00m use_pure:\n\u001b[1;32m    293\u001b[0m     \u001b[38;5;28;01mreturn\u001b[39;00m CMySQLConnection(\u001b[38;5;241m*\u001b[39margs, \u001b[38;5;241m*\u001b[39m\u001b[38;5;241m*\u001b[39mkwargs)\n\u001b[0;32m--> 294\u001b[0m \u001b[38;5;28;01mreturn\u001b[39;00m MySQLConnection(\u001b[38;5;241m*\u001b[39margs, \u001b[38;5;241m*\u001b[39m\u001b[38;5;241m*\u001b[39mkwargs)\n",
      "File \u001b[0;32m/data/user/0/ru.iiec.pydroid3/files/aarch64-linux-android/lib/python3.9/site-packages/mysql/connector/connection.py:167\u001b[0m, in \u001b[0;36mMySQLConnection.__init__\u001b[0;34m(self, **kwargs)\u001b[0m\n\u001b[1;32m    165\u001b[0m \u001b[38;5;28;01mif\u001b[39;00m kwargs:\n\u001b[1;32m    166\u001b[0m     \u001b[38;5;28;01mtry\u001b[39;00m:\n\u001b[0;32m--> 167\u001b[0m         \u001b[38;5;28mself\u001b[39m\u001b[38;5;241m.\u001b[39mconnect(\u001b[38;5;241m*\u001b[39m\u001b[38;5;241m*\u001b[39mkwargs)\n\u001b[1;32m    168\u001b[0m     \u001b[38;5;28;01mexcept\u001b[39;00m \u001b[38;5;167;01mException\u001b[39;00m:\n\u001b[1;32m    169\u001b[0m         \u001b[38;5;66;03m# Tidy-up underlying socket on failure\u001b[39;00m\n\u001b[1;32m    170\u001b[0m         \u001b[38;5;28mself\u001b[39m\u001b[38;5;241m.\u001b[39mclose()\n",
      "File \u001b[0;32m/data/user/0/ru.iiec.pydroid3/files/aarch64-linux-android/lib/python3.9/site-packages/mysql/connector/abstracts.py:1178\u001b[0m, in \u001b[0;36mMySQLConnectionAbstract.connect\u001b[0;34m(self, **kwargs)\u001b[0m\n\u001b[1;32m   1175\u001b[0m     \u001b[38;5;28mself\u001b[39m\u001b[38;5;241m.\u001b[39mconfig(\u001b[38;5;241m*\u001b[39m\u001b[38;5;241m*\u001b[39mkwargs)\n\u001b[1;32m   1177\u001b[0m \u001b[38;5;28mself\u001b[39m\u001b[38;5;241m.\u001b[39mdisconnect()\n\u001b[0;32m-> 1178\u001b[0m \u001b[38;5;28;43mself\u001b[39;49m\u001b[38;5;241;43m.\u001b[39;49m\u001b[43m_open_connection\u001b[49m\u001b[43m(\u001b[49m\u001b[43m)\u001b[49m\n\u001b[1;32m   1179\u001b[0m \u001b[38;5;66;03m# Server does not allow to run any other statement different from ALTER\u001b[39;00m\n\u001b[1;32m   1180\u001b[0m \u001b[38;5;66;03m# when user's password has been expired.\u001b[39;00m\n\u001b[1;32m   1181\u001b[0m \u001b[38;5;28;01mif\u001b[39;00m \u001b[38;5;129;01mnot\u001b[39;00m \u001b[38;5;28mself\u001b[39m\u001b[38;5;241m.\u001b[39m_client_flags \u001b[38;5;241m&\u001b[39m ClientFlag\u001b[38;5;241m.\u001b[39mCAN_HANDLE_EXPIRED_PASSWORDS:\n",
      "File \u001b[0;32m/data/user/0/ru.iiec.pydroid3/files/aarch64-linux-android/lib/python3.9/site-packages/mysql/connector/connection.py:571\u001b[0m, in \u001b[0;36mMySQLConnection._open_connection\u001b[0;34m(self)\u001b[0m\n\u001b[1;32m    569\u001b[0m \u001b[38;5;28mself\u001b[39m\u001b[38;5;241m.\u001b[39m_socket \u001b[38;5;241m=\u001b[39m \u001b[38;5;28mself\u001b[39m\u001b[38;5;241m.\u001b[39m_get_connection()\n\u001b[1;32m    570\u001b[0m \u001b[38;5;28;01mtry\u001b[39;00m:\n\u001b[0;32m--> 571\u001b[0m     \u001b[38;5;28;43mself\u001b[39;49m\u001b[38;5;241;43m.\u001b[39;49m\u001b[43m_socket\u001b[49m\u001b[38;5;241;43m.\u001b[39;49m\u001b[43mopen_connection\u001b[49m\u001b[43m(\u001b[49m\u001b[43m)\u001b[49m\n\u001b[1;32m    572\u001b[0m     \u001b[38;5;28mself\u001b[39m\u001b[38;5;241m.\u001b[39m_do_handshake()\n\u001b[1;32m    573\u001b[0m     \u001b[38;5;28mself\u001b[39m\u001b[38;5;241m.\u001b[39m_do_auth(\n\u001b[1;32m    574\u001b[0m         \u001b[38;5;28mself\u001b[39m\u001b[38;5;241m.\u001b[39m_user,\n\u001b[1;32m    575\u001b[0m         \u001b[38;5;28mself\u001b[39m\u001b[38;5;241m.\u001b[39m_password,\n\u001b[0;32m   (...)\u001b[0m\n\u001b[1;32m    580\u001b[0m         \u001b[38;5;28mself\u001b[39m\u001b[38;5;241m.\u001b[39m_conn_attrs,\n\u001b[1;32m    581\u001b[0m     )\n",
      "File \u001b[0;32m/data/user/0/ru.iiec.pydroid3/files/aarch64-linux-android/lib/python3.9/site-packages/mysql/connector/network.py:602\u001b[0m, in \u001b[0;36mMySQLTCPSocket.open_connection\u001b[0;34m(self)\u001b[0m\n\u001b[1;32m    600\u001b[0m     \u001b[38;5;28mself\u001b[39m\u001b[38;5;241m.\u001b[39msock\u001b[38;5;241m.\u001b[39mconnect(sockaddr)\n\u001b[1;32m    601\u001b[0m \u001b[38;5;28;01mexcept\u001b[39;00m \u001b[38;5;167;01mIOError\u001b[39;00m \u001b[38;5;28;01mas\u001b[39;00m err:\n\u001b[0;32m--> 602\u001b[0m     \u001b[38;5;28;01mraise\u001b[39;00m InterfaceError(\n\u001b[1;32m    603\u001b[0m         errno\u001b[38;5;241m=\u001b[39m\u001b[38;5;241m2003\u001b[39m,\n\u001b[1;32m    604\u001b[0m         values\u001b[38;5;241m=\u001b[39m(\n\u001b[1;32m    605\u001b[0m             \u001b[38;5;28mself\u001b[39m\u001b[38;5;241m.\u001b[39mserver_host,\n\u001b[1;32m    606\u001b[0m             \u001b[38;5;28mself\u001b[39m\u001b[38;5;241m.\u001b[39mserver_port,\n\u001b[1;32m    607\u001b[0m             _strioerror(err),\n\u001b[1;32m    608\u001b[0m         ),\n\u001b[1;32m    609\u001b[0m     ) \u001b[38;5;28;01mfrom\u001b[39;00m \u001b[38;5;21;01merr\u001b[39;00m\n\u001b[1;32m    610\u001b[0m \u001b[38;5;28;01mexcept\u001b[39;00m \u001b[38;5;167;01mException\u001b[39;00m \u001b[38;5;28;01mas\u001b[39;00m err:\n\u001b[1;32m    611\u001b[0m     \u001b[38;5;28;01mraise\u001b[39;00m OperationalError(\u001b[38;5;28mstr\u001b[39m(err)) \u001b[38;5;28;01mfrom\u001b[39;00m \u001b[38;5;21;01merr\u001b[39;00m\n",
      "\u001b[0;31mInterfaceError\u001b[0m: 2003: Can't connect to MySQL server on 'localhost:3306' (111 Connection refused)"
     ]
    }
   ],
   "source": [
    "import mysql.connector\n",
    "mydb = mysql.connector.connect(\n",
    "  host=\"localhost\",\n",
    "  user=\"username\",\n",
    "  password=\"password\",\n",
    "  database=\"database\"\n",
    ")\n",
    "mycursor = mydb.cursor()"
   ]
  },
  {
   "cell_type": "code",
   "execution_count": null,
   "id": "0e9e6a14",
   "metadata": {},
   "outputs": [],
   "source": [
    "In this code, we first import the mysql.connector module and use the connect() method to establish a connection to the MySQL database. We need to provide the database connection details, such as the host, username, password, and database name.\n",
    "After establishing the connection, we create a cursor object using the cursor() method of the database connection object. The cursor object allows us to execute SQL statements on the database.\n",
    "The execute() method is used to execute an SQL statement on the database using the cursor object. It takes an SQL statement as its parameter and returns the result of the statement, if any. Here's an example of how to use the execute() method to execute a SELECT statement:"
   ]
  },
  {
   "cell_type": "code",
   "execution_count": null,
   "id": "2dbf3cd2",
   "metadata": {},
   "outputs": [],
   "source": [
    "sql = \"SELECT * FROM customers\"\n",
    "mycursor.execute(sql)\n",
    "myresult = mycursor.fetchall()\n",
    "for x in myresult:\n",
    "  print(x)"
   ]
  },
  {
   "cell_type": "code",
   "execution_count": null,
   "id": "d6fdf37f",
   "metadata": {},
   "outputs": [],
   "source": [
    "In this code, you first define an SQL SELECT statement and store it in the sql variable. You then call the execute() method on the cursor object, passing the sql variable as its parameter. This executes the SELECT statement on the database and returns the result.\n",
    "The fetchall() method is used to fetch all the rows returned by the SELECT statement. It returns a list of tuples, where each tuple represents a row in the result set. You can then loop through the result set and print each row, as shown in the code above.\n",
    "In summary, the cursor() method is used to create a cursor object, which allows you to execute SQL statements on the database. The execute() method is used to execute an SQL statement on the database using the cursor object, and the fetchall() method is used to retrieve the results of the SQL statement."
   ]
  },
  {
   "cell_type": "code",
   "execution_count": null,
   "id": "f532e101",
   "metadata": {},
   "outputs": [],
   "source": [
    "Q7. Give the order of execution of SQL clauses in an SQL query."
   ]
  },
  {
   "cell_type": "code",
   "execution_count": null,
   "id": "95b6cfb0",
   "metadata": {},
   "outputs": [],
   "source": [
    "The order of execution of SQL clauses in an SQL query can be summarized as follows:\n",
    "FROM clause: The FROM clause specifies the table or tables from which the data will be retrieved. If multiple tables are used, they may be joined using the JOIN clause.\n",
    "WHERE clause: The WHERE clause filters the data based on a specified condition or set of conditions. It is used to retrieve only the rows that meet the specified criteria.\n",
    "GROUP BY clause: The GROUP BY clause is used to group the result set by one or more columns. It is often used in conjunction with aggregate functions, such as COUNT, SUM, AVG, etc.\n",
    "HAVING clause: The HAVING clause is used to filter the result set based on a specified condition or set of conditions. It is similar to the WHERE clause, but it is applied after the data has been grouped by the GROUP BY clause.\n",
    "SELECT clause: The SELECT clause specifies the columns that will be included in the result set. It can also be used to apply functions or expressions to the data, such as CONCAT, DATE_FORMAT, etc.\n",
    "ORDER BY clause: The ORDER BY clause is used to sort the result set based on one or more columns. It can sort the data in ascending or descending order.\n",
    "LIMIT clause: The LIMIT clause is used to limit the number of rows returned by the query. It is often used in conjunction with the ORDER BY clause to retrieve the top N rows based on a specified criteria.\n",
    "It's important to note that not all clauses are required in every query. The basic syntax of an SQL query is:"
   ]
  },
  {
   "cell_type": "code",
   "execution_count": null,
   "id": "0c915b7f",
   "metadata": {},
   "outputs": [],
   "source": [
    "SELECT column1, column2, ...\n",
    "FROM table_name\n",
    "WHERE condition;"
   ]
  },
  {
   "cell_type": "code",
   "execution_count": null,
   "id": "772b0d7e",
   "metadata": {},
   "outputs": [],
   "source": []
  },
  {
   "cell_type": "code",
   "execution_count": null,
   "id": "609f2db3",
   "metadata": {},
   "outputs": [],
   "source": []
  },
  {
   "cell_type": "code",
   "execution_count": null,
   "id": "bc444d0b",
   "metadata": {},
   "outputs": [],
   "source": []
  },
  {
   "cell_type": "code",
   "execution_count": null,
   "id": "e45f735c",
   "metadata": {},
   "outputs": [],
   "source": []
  },
  {
   "cell_type": "code",
   "execution_count": null,
   "id": "4e3d1bdc",
   "metadata": {},
   "outputs": [],
   "source": []
  },
  {
   "cell_type": "code",
   "execution_count": null,
   "id": "c4c9b1d7",
   "metadata": {},
   "outputs": [],
   "source": []
  },
  {
   "cell_type": "code",
   "execution_count": null,
   "id": "1a1a57c4",
   "metadata": {},
   "outputs": [],
   "source": []
  },
  {
   "cell_type": "code",
   "execution_count": null,
   "id": "2192531e",
   "metadata": {},
   "outputs": [],
   "source": []
  },
  {
   "cell_type": "code",
   "execution_count": null,
   "id": "806bd59a",
   "metadata": {},
   "outputs": [],
   "source": []
  },
  {
   "cell_type": "code",
   "execution_count": null,
   "id": "df84e65c",
   "metadata": {},
   "outputs": [],
   "source": []
  },
  {
   "cell_type": "code",
   "execution_count": null,
   "id": "7a514af3",
   "metadata": {},
   "outputs": [],
   "source": []
  },
  {
   "cell_type": "code",
   "execution_count": null,
   "id": "a5105dd7",
   "metadata": {},
   "outputs": [],
   "source": []
  },
  {
   "cell_type": "code",
   "execution_count": null,
   "id": "9e63c660",
   "metadata": {},
   "outputs": [],
   "source": []
  }
 ],
 "metadata": {
  "kernelspec": {
   "display_name": "Python 3 (ipykernel)",
   "language": "python",
   "name": "python3"
  },
  "language_info": {
   "codemirror_mode": {
    "name": "ipython",
    "version": 3
   },
   "file_extension": ".py",
   "mimetype": "text/x-python",
   "name": "python",
   "nbconvert_exporter": "python",
   "pygments_lexer": "ipython3",
   "version": "3.9.7"
  }
 },
 "nbformat": 4,
 "nbformat_minor": 5
}
